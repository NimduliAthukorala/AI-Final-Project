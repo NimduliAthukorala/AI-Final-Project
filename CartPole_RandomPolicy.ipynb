{
 "cells": [
  {
   "cell_type": "code",
   "execution_count": 4,
   "metadata": {},
   "outputs": [
    {
     "name": "stdout",
     "output_type": "stream",
     "text": [
      "Best reward 1000 out of max 1000, model: [0.01659193 0.14296441 0.81529561 0.14307053]\n"
     ]
    }
   ],
   "source": [
    "import gym\n",
    "import time\n",
    "import numpy as np\n",
    "\n",
    "def get_model(distribution=None):\n",
    "    if distribution is None:\n",
    "        return 2*np.random.rand(4)-1.\n",
    "    else:\n",
    "        return distribution\n",
    "\n",
    "def run_episode(env, model, num_steps, render=False):\n",
    "    observation = env.reset()\n",
    "    for t in range(num_steps):\n",
    "        if render: env.render()\n",
    "        # Action is type Discrete(2): 0 moves cart left, 1 right\n",
    "        action = 0 if np.dot(model, observation) < 0 else 1\n",
    "        observation, reward, done, info = env.step(action)\n",
    "        # Slow down framerate\n",
    "        if render: time.sleep(0.01)\n",
    "        if done:\n",
    "            break\n",
    "\n",
    "    return t+1\n",
    "\n",
    "def main():\n",
    "    # Note: gym.make('') imposes a 200 limit in the number steps\n",
    "    # Limit can be bypassed by calling gym.make('').env\n",
    "    env = gym.make('CartPole-v0')\n",
    "    num_episodes = 5\n",
    "    num_steps = 200\n",
    "    num_models  = 1000\n",
    "\n",
    "    # Return model with largest cumulative reward\n",
    "    best_reward = 0\n",
    "    best_model = None\n",
    "\n",
    "    for _ in range(num_models):\n",
    "        model = get_model()\n",
    "        model_reward = 0\n",
    "        for i_episode in range(num_episodes):\n",
    "            model_reward += run_episode(env, model, num_steps)\n",
    "\n",
    "        if model_reward > best_reward:\n",
    "            best_reward = model_reward\n",
    "            best_model = model\n",
    "\n",
    "    print('Best reward {} out of max {}, model: {}'.format(best_reward, num_episodes*num_steps, best_model))\n",
    "\n",
    "    # Render one episode with best model\n",
    "    model = best_model\n",
    "    _ = run_episode(env, best_model, num_steps, render=True)\n",
    "    env.close()\n",
    "\n",
    "if __name__ == '__main__':\n",
    "    main()"
   ]
  },
  {
   "cell_type": "code",
   "execution_count": null,
   "metadata": {},
   "outputs": [],
   "source": []
  }
 ],
 "metadata": {
  "kernelspec": {
   "display_name": "Python 3",
   "language": "python",
   "name": "python3"
  },
  "language_info": {
   "codemirror_mode": {
    "name": "ipython",
    "version": 3
   },
   "file_extension": ".py",
   "mimetype": "text/x-python",
   "name": "python",
   "nbconvert_exporter": "python",
   "pygments_lexer": "ipython3",
   "version": "3.8.3"
  }
 },
 "nbformat": 4,
 "nbformat_minor": 4
}
